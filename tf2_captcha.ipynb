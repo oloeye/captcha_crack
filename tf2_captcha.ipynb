{
  "nbformat": 4,
  "nbformat_minor": 0,
  "metadata": {
    "colab": {
      "name": "tf_captcha.ipynb",
      "version": "0.3.2",
      "provenance": [],
      "collapsed_sections": [],
      "toc_visible": true,
      "include_colab_link": true
    },
    "kernelspec": {
      "name": "python3",
      "display_name": "Python 3"
    },
    "accelerator": "GPU"
  },
  "cells": [
    {
      "cell_type": "markdown",
      "metadata": {
        "id": "view-in-github",
        "colab_type": "text"
      },
      "source": [
        "<a href=\"https://colab.research.google.com/github/oloeye/captcha_crack/blob/master/tf2_captcha.ipynb\" target=\"_parent\"><img src=\"https://colab.research.google.com/assets/colab-badge.svg\" alt=\"Open In Colab\"/></a>"
      ]
    },
    {
      "cell_type": "code",
      "metadata": {
        "id": "U2wXPFPmLkvz",
        "colab_type": "code",
        "colab": {}
      },
      "source": [
        "!pip install captcha\n",
        "!pip install -U tensorflow-gpu==2.0.0a0"
      ],
      "execution_count": 0,
      "outputs": []
    },
    {
      "cell_type": "markdown",
      "metadata": {
        "id": "_L30v_TML6Px",
        "colab_type": "text"
      },
      "source": [
        "### 导入相应的包\n"
      ]
    },
    {
      "cell_type": "code",
      "metadata": {
        "id": "11S8flCAMCai",
        "colab_type": "code",
        "outputId": "82f1a9c3-954e-489b-bd77-faf1efe572ab",
        "colab": {
          "base_uri": "https://localhost:8080/",
          "height": 68
        }
      },
      "source": [
        "# -*-  conding:utf-8 -*-\n",
        "from captcha.image import ImageCaptcha\n",
        "import matplotlib.pyplot as plt # plt 用于显示图片\n",
        "import random\n",
        "from PIL import Image\n",
        "import numpy as np\n",
        "import tensorflow as tf\n",
        "\n",
        "\n",
        "print(tf.__version__)\n",
        "print(tf.keras.__version__)\n",
        "print(tf.test.is_gpu_available())"
      ],
      "execution_count": 0,
      "outputs": [
        {
          "output_type": "stream",
          "text": [
            "2.0.0-alpha0\n",
            "2.2.4-tf\n",
            "True\n"
          ],
          "name": "stdout"
        }
      ]
    },
    {
      "cell_type": "markdown",
      "metadata": {
        "id": "MhqQD7qSMd7Z",
        "colab_type": "text"
      },
      "source": [
        "### 验证码的生成及处理"
      ]
    },
    {
      "cell_type": "code",
      "metadata": {
        "id": "6ALlQs8jM6EQ",
        "colab_type": "code",
        "outputId": "63ada952-e58f-4c14-b994-639e160b8d1e",
        "colab": {
          "base_uri": "https://localhost:8080/",
          "height": 34
        }
      },
      "source": [
        "number = ['0', '1', '2', '3', '4', '5', '6', '7', '8', '9']\n",
        "alphabet = ['a', 'b', 'c', 'd', 'e', 'f', 'g', 'h', 'i', 'j', 'k', 'l', 'm', 'n', 'o', 'p', 'q', 'r', 's', 't', 'u',\n",
        "            'v', 'w', 'x', 'y', 'z']\n",
        "ALPHABET = ['A', 'B', 'C', 'D', 'E', 'F', 'G', 'H', 'I', 'J', 'K', 'L', 'M', 'N', 'O', 'P', 'Q', 'R', 'S', 'T', 'U',\n",
        "            'V', 'W', 'X', 'Y', 'Z']\n",
        "SAVE_PATH = \"/content/gdrive/My Drive/deep_learning/ml_models/\"\n",
        "CHAR_SET = number + alphabet + ALPHABET\n",
        "CHAR_SET_LEN = len(CHAR_SET)\n",
        "IMAGE_HEIGHT = 60\n",
        "IMAGE_WIDTH = 160\n",
        "\n",
        "# 随机生成文本\n",
        "def random_captcha_text(char_set = None,captcha_size=4):\n",
        "  if char_set is None:\n",
        "    char_set = number + alphabet + ALPHABET\n",
        "    \n",
        "  captcha_text = []\n",
        "  for _ in range(captcha_size):\n",
        "    c = random.choice(char_set)\n",
        "    captcha_text.append(c)\n",
        "  return captcha_text\n",
        "\n",
        "# 生成验证码图片\n",
        "def gen_captcha_text_and_image(width=160, height=60, char_set=CHAR_SET):\n",
        "  image = ImageCaptcha(width=width, height=height)\n",
        "\n",
        "  captcha_text = random_captcha_text(char_set)\n",
        "  captcha_text = ''.join(captcha_text)\n",
        "\n",
        "  captcha = image.generate(captcha_text)\n",
        "\n",
        "  captcha_image = Image.open(captcha)\n",
        "#   im_show(captcha_image)\n",
        "  captcha_image = np.array(captcha_image)\n",
        "  \n",
        "  return captcha_text, captcha_image\n",
        "\n",
        "\n",
        "def im_show(img):\n",
        "  plt.imshow(img) # 显示图片\n",
        "  plt.axis('off') # 不显示坐标轴\n",
        "  plt.show()\n",
        "\n",
        "# 生成验证码\n",
        "\n",
        "text, image = gen_captcha_text_and_image(char_set=CHAR_SET)\n",
        "\n",
        "MAX_CAPTCHA = len(text)\n",
        "print('CHAR_SET_LEN=', CHAR_SET_LEN, ' MAX_CAPTCHA=', MAX_CAPTCHA)\n",
        "  "
      ],
      "execution_count": 0,
      "outputs": [
        {
          "output_type": "stream",
          "text": [
            "CHAR_SET_LEN= 62  MAX_CAPTCHA= 4\n"
          ],
          "name": "stdout"
        }
      ]
    },
    {
      "cell_type": "code",
      "metadata": {
        "id": "OJUUrK4YNZDw",
        "colab_type": "code",
        "outputId": "0840bac4-22b4-4de3-e82f-b117ca0f8870",
        "colab": {
          "base_uri": "https://localhost:8080/",
          "height": 122
        }
      },
      "source": [
        "'''挂载到 google drive'''\n",
        "from google.colab import drive\n",
        "drive.mount('/content/gdrive',force_remount=True)\n",
        "\n",
        "def convert2gray(img):\n",
        "    if len(img.shape) > 2:\n",
        "        gray = np.mean(img, -1)\n",
        "        return gray\n",
        "    else:\n",
        "        return img\n",
        "\n",
        "\n",
        "def text2vec(text):\n",
        "    vector = np.zeros([MAX_CAPTCHA, CHAR_SET_LEN])\n",
        "    for i, c in enumerate(text):\n",
        "        idx = CHAR_SET.index(c)\n",
        "        vector[i][idx] = 1.0\n",
        "    return vector\n",
        "\n",
        "\n",
        "def vec2text(vec):\n",
        "    text = []\n",
        "    for i, c in enumerate(vec):\n",
        "        text.append(CHAR_SET[c])\n",
        "    return \"\".join(text)\n",
        "\n",
        "\n",
        "def get_next_batch(batch_size=128):\n",
        "    batch_x = np.zeros([batch_size, IMAGE_HEIGHT, IMAGE_WIDTH, 1])\n",
        "    batch_y = np.zeros([batch_size, MAX_CAPTCHA, CHAR_SET_LEN])\n",
        "\n",
        "    def wrap_gen_captcha_text_and_image():\n",
        "        while True:\n",
        "            text, image = gen_captcha_text_and_image(char_set=CHAR_SET)\n",
        "            if image.shape == (60, 160, 3):\n",
        "                return text, image\n",
        "\n",
        "    for i in range(batch_size):\n",
        "        text, image = wrap_gen_captcha_text_and_image()\n",
        "#         im_show(image)\n",
        "        image = tf.reshape(convert2gray(image), (IMAGE_HEIGHT, IMAGE_WIDTH, 1))\n",
        "        batch_x[i, :] = image\n",
        "        batch_y[i, :] = text2vec(text)\n",
        "\n",
        "    return batch_x, batch_y\n",
        "\n",
        "\n",
        "def crack_captcha_cnn():\n",
        "    '''使用 vgg16 两个 卷积 一个池化'''\n",
        "    model = tf.keras.Sequential()\n",
        "\n",
        "    model.add(tf.keras.layers.Conv2D(32, (3, 3)))\n",
        "    model.add(tf.keras.layers.PReLU())\n",
        "    model.add(tf.keras.layers.Conv2D(128, (5, 5)))\n",
        "    model.add(tf.keras.layers.BatchNormalization())\n",
        "    model.add(tf.keras.layers.PReLU())\n",
        "    model.add(tf.keras.layers.MaxPool2D((2, 2), strides=2))   \n",
        "\n",
        "    model.add(tf.keras.layers.Conv2D(256, (5, 5)))\n",
        "    model.add(tf.keras.layers.PReLU())\n",
        "    model.add(tf.keras.layers.Conv2D(256, (3, 3)))\n",
        "    model.add(tf.keras.layers.PReLU())\n",
        "    model.add(tf.keras.layers.BatchNormalization())\n",
        "    model.add(tf.keras.layers.MaxPool2D((2, 2), strides=2))\n",
        "    \n",
        "    model.add(tf.keras.layers.Conv2D(64, (5, 5)))\n",
        "    model.add(tf.keras.layers.PReLU())\n",
        "    model.add(tf.keras.layers.Conv2D(32, (3, 3)))\n",
        "    model.add(tf.keras.layers.PReLU())\n",
        "    model.add(tf.keras.layers.BatchNormalization())\n",
        "    model.add(tf.keras.layers.MaxPool2D((2, 2), strides=2))\n",
        "\n",
        "    model.add(tf.keras.layers.Flatten())\n",
        "    model.add(tf.keras.layers.Dense(MAX_CAPTCHA * CHAR_SET_LEN))\n",
        "    model.add(tf.keras.layers.Reshape([MAX_CAPTCHA, CHAR_SET_LEN]))\n",
        "    model.add(tf.keras.layers.Softmax())\n",
        "\n",
        "    return model\n",
        "\n",
        "\n",
        "def train():\n",
        "    try:\n",
        "        model = tf.keras.models.load_model( SAVE_PATH+ 'model')\n",
        "    except Exception as e:\n",
        "        print('#######Exception', e)\n",
        "        model = crack_captcha_cnn()\n",
        "\n",
        "    model.compile(optimizer='Adam',\n",
        "                  metrics=['accuracy'],\n",
        "                  loss='categorical_crossentropy')\n",
        "\n",
        "    for times in range(1000):\n",
        "        batch_x, batch_y = get_next_batch(1024)\n",
        "        print('times=', times, ' batch_x.shape=', batch_x.shape, ' batch_y.shape=', batch_y.shape)\n",
        "        model.fit(batch_x, batch_y, epochs=5)\n",
        "#         print(\"y预测=\\n\", np.argmax(model.predict(batch_x), axis=2))\n",
        "#         print(\"y实际=\\n\", np.argmax(batch_y, axis=2))\n",
        "\n",
        "        if 0 == times % 10:\n",
        "            print(\"save model at times=\", times)\n",
        "            # 使用工具colab的接口挂载google drive目录，这样可以从外部获取数据并且可以把训练好的模型保存在google drive上\n",
        "            model.save(SAVE_PATH + 'model')\n",
        "     \n",
        "\n",
        "\n",
        "def predict(batch_num = 1000):\n",
        "    model = tf.keras.models.load_model(SAVE_PATH + 'model')\n",
        "    success = 0\n",
        "    for _ in range(batch_num):\n",
        "        data_x, data_y = get_next_batch(1)\n",
        "        prediction_value = model.predict(data_x)\n",
        "        data_y = vec2text(np.argmax(data_y, axis=2)[0])\n",
        "        prediction_value = vec2text(np.argmax(prediction_value, axis=2)[0])\n",
        "\n",
        "        if data_y.upper() == prediction_value.upper():\n",
        "            print(\"y预测=\", prediction_value, \"y实际=\", data_y, \"预测成功。\")\n",
        "            success += 1\n",
        "        else:\n",
        "            print(\"y预测=\", prediction_value, \"y实际=\", data_y, \"预测失败。\")\n",
        "\n",
        "    print(\"预测\", batch_num, \"次\", \"成功率 =\", success / batch_num)\n"
      ],
      "execution_count": 0,
      "outputs": [
        {
          "output_type": "stream",
          "text": [
            "Go to this URL in a browser: https://accounts.google.com/o/oauth2/auth?client_id=947318989803-6bn6qk8qdgf4n4g3pfee6491hc0brc4i.apps.googleusercontent.com&redirect_uri=urn%3Aietf%3Awg%3Aoauth%3A2.0%3Aoob&scope=email%20https%3A%2F%2Fwww.googleapis.com%2Fauth%2Fdocs.test%20https%3A%2F%2Fwww.googleapis.com%2Fauth%2Fdrive%20https%3A%2F%2Fwww.googleapis.com%2Fauth%2Fdrive.photos.readonly%20https%3A%2F%2Fwww.googleapis.com%2Fauth%2Fpeopleapi.readonly&response_type=code\n",
            "\n",
            "Enter your authorization code:\n",
            "··········\n",
            "Mounted at /content/gdrive\n"
          ],
          "name": "stdout"
        }
      ]
    },
    {
      "cell_type": "code",
      "metadata": {
        "id": "H52Nq-enRMxU",
        "colab_type": "code",
        "outputId": "deecb2b4-1d58-4996-d69c-d66ef7d966f7",
        "colab": {
          "base_uri": "https://localhost:8080/",
          "height": 1771
        }
      },
      "source": [
        "# train()\n",
        "predict(batch_num=100)\n",
        "\n",
        "# !ls sample_data\n",
        "# !rm -f sample_data/model\n",
        "# !ls sample_data"
      ],
      "execution_count": 6,
      "outputs": [
        {
          "output_type": "stream",
          "text": [
            "W0617 07:31:04.711018 140333098760064 hdf5_format.py:266] Sequential models without an `input_shape` passed to the first layer cannot reload their optimizer state. As a result, your model isstarting with a freshly initialized optimizer.\n"
          ],
          "name": "stderr"
        },
        {
          "output_type": "stream",
          "text": [
            "y预测= xmy2 y实际= xmy2 预测成功。\n",
            "y预测= JPmD y实际= JPmD 预测成功。\n",
            "y预测= 0f7c y实际= Of7c 预测失败。\n",
            "y预测= 69JU y实际= 69JU 预测成功。\n",
            "y预测= D1a5 y实际= D1a5 预测成功。\n",
            "y预测= AQS5 y实际= AQS5 预测成功。\n",
            "y预测= fekV y实际= fekV 预测成功。\n",
            "y预测= J9aW y实际= J9aW 预测成功。\n",
            "y预测= MQGJ y实际= MQGJ 预测成功。\n",
            "y预测= ThNu y实际= ThNu 预测成功。\n",
            "y预测= Kyem y实际= Kyem 预测成功。\n",
            "y预测= ySiR y实际= ySiR 预测成功。\n",
            "y预测= FJ9P y实际= FJ9P 预测成功。\n",
            "y预测= P2Q1 y实际= P2Q1 预测成功。\n",
            "y预测= kFBD y实际= kFBD 预测成功。\n",
            "y预测= oUJc y实际= oUJc 预测成功。\n",
            "y预测= qyR2 y实际= qyR2 预测成功。\n",
            "y预测= bIL2 y实际= bIL2 预测成功。\n",
            "y预测= Ma7Z y实际= Ma7Z 预测成功。\n",
            "y预测= jt6H y实际= jt6H 预测成功。\n",
            "y预测= 6wVT y实际= 6wVT 预测成功。\n",
            "y预测= P1io y实际= P1io 预测成功。\n",
            "y预测= ShlG y实际= ShlG 预测成功。\n",
            "y预测= tILI y实际= tILI 预测成功。\n",
            "y预测= zIVM y实际= zIvM 预测成功。\n",
            "y预测= vavu y实际= vavu 预测成功。\n",
            "y预测= Plg6 y实际= Plg6 预测成功。\n",
            "y预测= PVnO y实际= Pvn0 预测失败。\n",
            "y预测= QmEo y实际= QmEo 预测成功。\n",
            "y预测= PoEO y实际= PoEO 预测成功。\n",
            "y预测= Pb3E y实际= Pb3E 预测成功。\n",
            "y预测= 4V34 y实际= 4V34 预测成功。\n",
            "y预测= kzNZ y实际= kzNZ 预测成功。\n",
            "y预测= EzcP y实际= EzcP 预测成功。\n",
            "y预测= Jaqs y实际= Jaqs 预测成功。\n",
            "y预测= oV2M y实际= Ov2M 预测成功。\n",
            "y预测= ODyH y实际= 0DyH 预测失败。\n",
            "y预测= nTXZ y实际= nTXZ 预测成功。\n",
            "y预测= WuM1 y实际= WuM1 预测成功。\n",
            "y预测= lQoh y实际= lQoh 预测成功。\n",
            "y预测= vRD1 y实际= vRD1 预测成功。\n",
            "y预测= CZXL y实际= CZXL 预测成功。\n",
            "y预测= 94wV y实际= 94wV 预测成功。\n",
            "y预测= BIYP y实际= BIYP 预测成功。\n",
            "y预测= MnYf y实际= MnYf 预测成功。\n",
            "y预测= 5qPC y实际= 5qPC 预测成功。\n",
            "y预测= VMoK y实际= VMoK 预测成功。\n",
            "y预测= k9ha y实际= k9ha 预测成功。\n",
            "y预测= o4J4 y实际= o4J4 预测成功。\n",
            "y预测= pF92 y实际= pF92 预测成功。\n",
            "y预测= O33y y实际= 033y 预测失败。\n",
            "y预测= jjGO y实际= jjGO 预测成功。\n",
            "y预测= AcXf y实际= AcXf 预测成功。\n",
            "y预测= e7Ep y实际= e7Ep 预测成功。\n",
            "y预测= kfpm y实际= kfpm 预测成功。\n",
            "y预测= pWbm y实际= pWbm 预测成功。\n",
            "y预测= gRl2 y实际= gRl2 预测成功。\n",
            "y预测= 3Rmk y实际= 3Rmk 预测成功。\n",
            "y预测= xg63 y实际= xg63 预测成功。\n",
            "y预测= dZGu y实际= dZGu 预测成功。\n",
            "y预测= 1CED y实际= 1CED 预测成功。\n",
            "y预测= lF4j y实际= lF4j 预测成功。\n",
            "y预测= ltTd y实际= ltTd 预测成功。\n",
            "y预测= tUop y实际= tUop 预测成功。\n",
            "y预测= EIrF y实际= EIrF 预测成功。\n",
            "y预测= x17i y实际= X17i 预测成功。\n",
            "y预测= T1rq y实际= T1rq 预测成功。\n",
            "y预测= GdVc y实际= GdVc 预测成功。\n",
            "y预测= TeUJ y实际= TeUJ 预测成功。\n",
            "y预测= WIS3 y实际= WIS3 预测成功。\n",
            "y预测= Xnzf y实际= Xnzf 预测成功。\n",
            "y预测= qWWL y实际= quWL 预测失败。\n",
            "y预测= OTG3 y实际= 0TG3 预测失败。\n",
            "y预测= Letf y实际= Letf 预测成功。\n",
            "y预测= 8WqZ y实际= 8WqZ 预测成功。\n",
            "y预测= 8xm2 y实际= 8xm2 预测成功。\n",
            "y预测= WlE1 y实际= WlE1 预测成功。\n",
            "y预测= S15A y实际= S15A 预测成功。\n",
            "y预测= kqvE y实际= kqvE 预测成功。\n",
            "y预测= Ilnq y实际= Tlnq 预测失败。\n",
            "y预测= iEbl y实际= iEbl 预测成功。\n",
            "y预测= Br1w y实际= Br1w 预测成功。\n",
            "y预测= E0uY y实际= E0uY 预测成功。\n",
            "y预测= eTqE y实际= eTqE 预测成功。\n",
            "y预测= DBAm y实际= DBAm 预测成功。\n",
            "y预测= A0uR y实际= A0uR 预测成功。\n",
            "y预测= yVPZ y实际= yvPZ 预测成功。\n",
            "y预测= c6cl y实际= c6cl 预测成功。\n",
            "y预测= i5c8 y实际= i5c8 预测成功。\n",
            "y预测= e3XO y实际= e3X0 预测失败。\n",
            "y预测= dMMX y实际= dMvX 预测失败。\n",
            "y预测= raBI y实际= raBI 预测成功。\n",
            "y预测= QDnT y实际= QDnT 预测成功。\n",
            "y预测= zVkA y实际= zVkA 预测成功。\n",
            "y预测= JcGZ y实际= JcGZ 预测成功。\n",
            "y预测= C0Nd y实际= C0Nd 预测成功。\n",
            "y预测= 1XFA y实际= 1XFA 预测成功。\n",
            "y预测= 8Brm y实际= 8Brm 预测成功。\n",
            "y预测= 4zRy y实际= 4zRy 预测成功。\n",
            "y预测= ZLMf y实际= ZLMf 预测成功。\n",
            "预测 100 次 成功率 = 0.91\n"
          ],
          "name": "stdout"
        }
      ]
    }
  ]
}